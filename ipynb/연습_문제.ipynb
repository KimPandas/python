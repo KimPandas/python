{
  "nbformat": 4,
  "nbformat_minor": 0,
  "metadata": {
    "colab": {
      "provenance": []
    },
    "kernelspec": {
      "name": "python3",
      "display_name": "Python 3"
    },
    "language_info": {
      "name": "python"
    }
  },
  "cells": [
    {
      "cell_type": "markdown",
      "source": [
        "## 연습 문제 (문제)\n",
        "\n",
        "```\n",
        "⭐ 간단한 연습 문제를 준비했습니다.\n",
        "\n",
        "어렵게 느껴지더라도 걱정하지 마세요!\n",
        "\n",
        "복습할 기회이자 ChatGPT를 활용할 좋은 기회입니다.\n",
        "```\n",
        "\n",
        "- **[+ 코드]** 버튼 왼쪽에 있는 **목차** 기능을 활용하여 해당 단원의 문제를 풀고, 해답을 확인하세요.\n",
        "\n",
        "- 어려운 문제가 나오면 해답을 보기 전에  **ChatGPT**([🔗 링크](https://chatgpt.com/) )에게 질문해 보세요."
      ],
      "metadata": {
        "id": "rPyxx2qVTFYg"
      }
    },
    {
      "cell_type": "markdown",
      "source": [
        "### 변수\n",
        "\n",
        "❓ 1. 변수를 사용하는 이유를 설명하세요.\n"
      ],
      "metadata": {
        "id": "53jRh-CVTFYh"
      }
    },
    {
      "cell_type": "markdown",
      "source": [
        "❓ 2. `x`에 5를 할당한 후, `x`의 값을 출력하세요."
      ],
      "metadata": {
        "id": "b33x-BxJTFYh"
      }
    },
    {
      "cell_type": "code",
      "source": [],
      "metadata": {
        "id": "Qijlk7BoUs9Q"
      },
      "execution_count": null,
      "outputs": []
    },
    {
      "cell_type": "markdown",
      "source": [
        "❓ 3. `x`와 `y`에 각각 5와 10을 저장한 후, 두 변수의 합을 출력하세요."
      ],
      "metadata": {
        "id": "3EL-fN-yTFYi"
      }
    },
    {
      "cell_type": "code",
      "source": [],
      "metadata": {
        "id": "AEsXJ1V6TFYi"
      },
      "execution_count": null,
      "outputs": []
    },
    {
      "cell_type": "markdown",
      "source": [
        "❓ 4. 다음 변수 선언 중 올바르지 않은 것을 찾으세요.\n",
        "\n",
        "```python\n",
        "1var = 10\n",
        "my-var = 20\n",
        "_name2 = 'Python'\n",
        "True = 5\n",
        "```\n"
      ],
      "metadata": {
        "id": "7uRwzEXlTFYi"
      }
    },
    {
      "cell_type": "markdown",
      "source": [
        "❓ 5. 변수 `x`에 10을 할당한 후, 값을 5 증가시켜 업데이트한 뒤 출력하세요."
      ],
      "metadata": {
        "id": "CsH85cDoTFYi"
      }
    },
    {
      "cell_type": "code",
      "source": [],
      "metadata": {
        "id": "mi2WrAZ9TFYi"
      },
      "execution_count": null,
      "outputs": []
    },
    {
      "cell_type": "markdown",
      "source": [
        "---\n",
        "\n",
        "### 스칼라 자료형\n",
        "\n",
        "❓ 6. 정수 10의 자료형을 확인하는 코드를 작성하세요."
      ],
      "metadata": {
        "id": "Ko6FsEoTTFYi"
      }
    },
    {
      "cell_type": "code",
      "source": [],
      "metadata": {
        "id": "-Fa-V68cTFYi"
      },
      "execution_count": null,
      "outputs": []
    },
    {
      "cell_type": "markdown",
      "source": [
        "❓ 7. `x = 3.99`일 때, `x`를 정수형으로 변환하는 코드를 작성하고 결과를 예측하세요."
      ],
      "metadata": {
        "id": "zE1FJvFsTFYi"
      }
    },
    {
      "cell_type": "code",
      "source": [],
      "metadata": {
        "id": "BXdjiBxITFYi"
      },
      "execution_count": null,
      "outputs": []
    },
    {
      "cell_type": "markdown",
      "source": [
        "❓ 8. `7 // 2`와 `7 / 2`를 출력하고, 차이를 설명하세요."
      ],
      "metadata": {
        "id": "PU65r1AYWk6n"
      }
    },
    {
      "cell_type": "code",
      "source": [],
      "metadata": {
        "id": "50qfMBHqWpAO"
      },
      "execution_count": null,
      "outputs": []
    },
    {
      "cell_type": "markdown",
      "source": [
        "❓ 9. 변수 `s = '3.14'`를 실수형으로 변환하는 코드를 작성하세요."
      ],
      "metadata": {
        "id": "4tkGh_RRWrrq"
      }
    },
    {
      "cell_type": "code",
      "source": [],
      "metadata": {
        "id": "UFy9LkiCWvNo"
      },
      "execution_count": null,
      "outputs": []
    },
    {
      "cell_type": "markdown",
      "source": [
        "❓ 10. `float(10)`의 출력 결과를 예측하세요."
      ],
      "metadata": {
        "id": "Z0P4LEupXSF2"
      }
    },
    {
      "cell_type": "code",
      "source": [],
      "metadata": {
        "id": "heMn6QiyXVT2"
      },
      "execution_count": null,
      "outputs": []
    },
    {
      "cell_type": "markdown",
      "source": [
        "❓11. 변수 `s = 'Hello'`일 때, `s[0]`과 `s[-1]`의 값을 출력하세요."
      ],
      "metadata": {
        "id": "URTcjJVxXXfg"
      }
    },
    {
      "cell_type": "code",
      "source": [],
      "metadata": {
        "id": "rOLQvQmEXZo5"
      },
      "execution_count": null,
      "outputs": []
    },
    {
      "cell_type": "markdown",
      "source": [
        "❓ 12. `a = '김판다'`일 때, `a`의 길이를 출력하세요."
      ],
      "metadata": {
        "id": "oadBU4nkXpOz"
      }
    },
    {
      "cell_type": "code",
      "source": [],
      "metadata": {
        "id": "gSJLDg2uXuRr"
      },
      "execution_count": null,
      "outputs": []
    },
    {
      "cell_type": "markdown",
      "source": [
        "❓ 13. `'123' + '456'`의 출력 결과를 예측하세요."
      ],
      "metadata": {
        "id": "Tx4RfddUX3-_"
      }
    },
    {
      "cell_type": "code",
      "source": [],
      "metadata": {
        "id": "B8BPl_wgX6_F"
      },
      "execution_count": null,
      "outputs": []
    },
    {
      "cell_type": "markdown",
      "source": [
        "❓ 14. 문자열 `s = 'Hello, World!'`에서 마지막 6글자만 출력하세요."
      ],
      "metadata": {
        "id": "NlS5sypyX8zn"
      }
    },
    {
      "cell_type": "code",
      "source": [],
      "metadata": {
        "id": "ZSdDH3j8YAC6"
      },
      "execution_count": null,
      "outputs": []
    },
    {
      "cell_type": "markdown",
      "source": [
        "❓ 15. 문자열 s = '12345'에서 홀수 번째 문자만 출력하세요."
      ],
      "metadata": {
        "id": "zONGA0nIYCOI"
      }
    },
    {
      "cell_type": "code",
      "source": [],
      "metadata": {
        "id": "sv7P0kCfYE03"
      },
      "execution_count": null,
      "outputs": []
    },
    {
      "cell_type": "markdown",
      "source": [
        "❓ 16. `5 * 2`의 결과가 `10.0`과 같은지 비교하여 불(`bool`) 자료형을 출력하세요."
      ],
      "metadata": {
        "id": "vJGDPcebYG3r"
      }
    },
    {
      "cell_type": "code",
      "source": [],
      "metadata": {
        "id": "NFASO6rZYQVV"
      },
      "execution_count": null,
      "outputs": []
    },
    {
      "cell_type": "markdown",
      "source": [
        "❓ 17. 문자열 `'hello'`와 `'Hello'`를 다르다(`!=`) 연산으로 비교하여 불(`bool`) 자료형을 출력하세요."
      ],
      "metadata": {
        "id": "DGrg70xoYMpy"
      }
    },
    {
      "cell_type": "code",
      "source": [],
      "metadata": {
        "id": "HP8ZSNiKYVoP"
      },
      "execution_count": null,
      "outputs": []
    },
    {
      "cell_type": "markdown",
      "source": [
        "❓ 18. 변수 `a`에 `True`, `b`에 `False`를 할당한 후, `a + b`의 결과를 출력하세요."
      ],
      "metadata": {
        "id": "4omVrhitYX58"
      }
    },
    {
      "cell_type": "code",
      "source": [],
      "metadata": {
        "id": "hiadGz9MYgiW"
      },
      "execution_count": null,
      "outputs": []
    },
    {
      "cell_type": "markdown",
      "source": [
        "---\n",
        "\n",
        "### 컬렉션 자료형\n",
        "\n",
        "❓ 19. 리스트 `[1, 2, 3]`과 `[4, 5, 6]`을 합쳐 하나의 리스트를 출력하세요.\n",
        "\n",
        "\n",
        "\n",
        "\n",
        "\n"
      ],
      "metadata": {
        "id": "SKc3dYEfYc_3"
      }
    },
    {
      "cell_type": "code",
      "source": [],
      "metadata": {
        "id": "LdbPHBGTY1Xz"
      },
      "execution_count": null,
      "outputs": []
    },
    {
      "cell_type": "markdown",
      "source": [
        "❓20. 리스트 `numbers = [10, 20, 30, 40]`에서 첫 번째 원소를 출력하세요."
      ],
      "metadata": {
        "id": "Ndaq9yCPYfRX"
      }
    },
    {
      "cell_type": "code",
      "source": [],
      "metadata": {
        "id": "GcD27dNXY6S-"
      },
      "execution_count": null,
      "outputs": []
    },
    {
      "cell_type": "markdown",
      "source": [
        "❓ 21. 리스트 `numbers = [10, 20, 30, 40]`의 길이를 출력하세요."
      ],
      "metadata": {
        "id": "uJpn7ynVY8T2"
      }
    },
    {
      "cell_type": "code",
      "source": [],
      "metadata": {
        "id": "APphhmGUY_f6"
      },
      "execution_count": null,
      "outputs": []
    },
    {
      "cell_type": "markdown",
      "source": [
        "❓ 22. 리스트 `numbers =[10, 20, 30, 40, 50]`에서 앞의 3개 원소만 출력하세요."
      ],
      "metadata": {
        "id": "cBPvmzXOZCvE"
      }
    },
    {
      "cell_type": "code",
      "source": [],
      "metadata": {
        "id": "ia-39OmPZGF2"
      },
      "execution_count": null,
      "outputs": []
    },
    {
      "cell_type": "markdown",
      "source": [
        "❓ 23. 튜플 `t = (10, 20, 30, 40, 50)`에서 세 번째 원소를 출력하세요."
      ],
      "metadata": {
        "id": "D5VFlRrQZIXi"
      }
    },
    {
      "cell_type": "code",
      "source": [],
      "metadata": {
        "id": "iitPh3N1ZLcS"
      },
      "execution_count": null,
      "outputs": []
    },
    {
      "cell_type": "markdown",
      "source": [
        "❓ 24. 두 개의 튜플 `(1, 2, 3)`과 `(4, 5, 6)`을 하나의 튜플로 합치고 출력하세요."
      ],
      "metadata": {
        "id": "Q_ZQdiFUZNdv"
      }
    },
    {
      "cell_type": "code",
      "source": [],
      "metadata": {
        "id": "ngd3qyawZQob"
      },
      "execution_count": null,
      "outputs": []
    },
    {
      "cell_type": "markdown",
      "source": [
        "❓ 25. 튜플 언패킹을 사용하여 변수 `x`에 5, 변수 `y`에 10을 할당하세요."
      ],
      "metadata": {
        "id": "SqG1aWxfZSaL"
      }
    },
    {
      "cell_type": "code",
      "source": [],
      "metadata": {
        "id": "DvsB4GvtZV6T"
      },
      "execution_count": null,
      "outputs": []
    },
    {
      "cell_type": "markdown",
      "source": [
        "❓ 26. 딕셔너리 `d = {'A': 10, 'B': 20, 'C': 30}`에서 키 `'B'`의 밸류를 출력하세요."
      ],
      "metadata": {
        "id": "CGsW29zmZXuc"
      }
    },
    {
      "cell_type": "code",
      "source": [],
      "metadata": {
        "id": "a6De-wSNZa5-"
      },
      "execution_count": null,
      "outputs": []
    },
    {
      "cell_type": "markdown",
      "source": [
        "❓ 27. 빈 딕셔너리 `d = {}`에 키 `'X'`와 밸류 100을 추가하는 코드를 작성하세요."
      ],
      "metadata": {
        "id": "aF0FmUSoZc0V"
      }
    },
    {
      "cell_type": "code",
      "source": [],
      "metadata": {
        "id": "lcqunyqjZg-z"
      },
      "execution_count": null,
      "outputs": []
    },
    {
      "cell_type": "markdown",
      "source": [
        "❓28. 딕셔너리 `d = {'apple': 3, 'banana': 5}`에서 키 `'banana'`의 밸류를 10으로 변경하는 코드를 작성하세요."
      ],
      "metadata": {
        "id": "rUcVRoD1ZjAq"
      }
    },
    {
      "cell_type": "code",
      "source": [],
      "metadata": {
        "id": "XBBiLFPzZm6E"
      },
      "execution_count": null,
      "outputs": []
    },
    {
      "cell_type": "markdown",
      "source": [
        "❓ 29. 딕셔너리 `d = {'a': 1, 'b': 2, 'a': 3}`의 출력 결과를 예측하세요."
      ],
      "metadata": {
        "id": "Ri_GU-U8Zo6R"
      }
    },
    {
      "cell_type": "code",
      "source": [],
      "metadata": {
        "id": "AfGW2w9eZr5Y"
      },
      "execution_count": null,
      "outputs": []
    },
    {
      "cell_type": "markdown",
      "source": [
        "❓ 30. 집합 `set1 = {3, 2, 1, 3}`의 출력 결과를 예측하세요."
      ],
      "metadata": {
        "id": "1Fu2XJtLZtpV"
      }
    },
    {
      "cell_type": "code",
      "source": [],
      "metadata": {
        "id": "RLKSOE3zZwDw"
      },
      "execution_count": null,
      "outputs": []
    },
    {
      "cell_type": "markdown",
      "source": [
        "---\n",
        "### Null과 키워드\n",
        "\n",
        "❓ 31. `x = None`일 때, `x`의 자료형을 출력하세요."
      ],
      "metadata": {
        "id": "7DQcBUt_L8XN"
      }
    },
    {
      "cell_type": "code",
      "source": [],
      "metadata": {
        "id": "3S6KkfCCOcCL"
      },
      "execution_count": null,
      "outputs": []
    },
    {
      "cell_type": "markdown",
      "source": [
        "❓ 32. `None`과 빈 문자열 `''`이 같은지 비교해 출력하세요."
      ],
      "metadata": {
        "id": "b-5lAzuqOetq"
      }
    },
    {
      "cell_type": "code",
      "source": [],
      "metadata": {
        "id": "cp_73tVcOiCl"
      },
      "execution_count": null,
      "outputs": []
    },
    {
      "cell_type": "markdown",
      "source": [
        "❓ 33. `NaN`을 생성하고 변수 `a`에 할당한 뒤, 변수 `a`의 자료형을 출력하세요."
      ],
      "metadata": {
        "id": "TTR5bpowOkaF"
      }
    },
    {
      "cell_type": "code",
      "source": [],
      "metadata": {
        "id": "Ltd-tMRVOnnM"
      },
      "execution_count": null,
      "outputs": []
    },
    {
      "cell_type": "markdown",
      "source": [
        "❓ 34. 변수 `a`에 `NaN`을 할당한 후, `a + 2`의 결과와 `a`와 `NaN`의 동등 비교(`==`) 결과를 출력하세요."
      ],
      "metadata": {
        "id": "n5T_X1MzOmi5"
      }
    },
    {
      "cell_type": "code",
      "source": [],
      "metadata": {
        "id": "KLWD7LY6OtMv"
      },
      "execution_count": null,
      "outputs": []
    },
    {
      "cell_type": "markdown",
      "source": [
        "❓ 35. `a = (1, 2)`, `b = (1, 2)`일 때, `a is b`의 결과를 출력하세요."
      ],
      "metadata": {
        "id": "acVS-Gq1Ov0z"
      }
    },
    {
      "cell_type": "code",
      "source": [],
      "metadata": {
        "id": "IDrDe9ZrO0-7"
      },
      "execution_count": null,
      "outputs": []
    },
    {
      "cell_type": "markdown",
      "source": [
        "❓ 36. 1이 리스트 `[1, 2, 3]`에 속하는지 확인하는 코드를 작성하세요."
      ],
      "metadata": {
        "id": "09EW0AglPput"
      }
    },
    {
      "cell_type": "code",
      "source": [],
      "metadata": {
        "id": "V2YoIm0HPsXN"
      },
      "execution_count": null,
      "outputs": []
    },
    {
      "cell_type": "markdown",
      "source": [
        "---\n",
        "\n",
        "### 제어문\n",
        "\n",
        "❓ 37. `x = 5`일 때, `x`가 양수이면 `'양수입니다.'`를 출력하는 `if` 문을 작성하세요."
      ],
      "metadata": {
        "id": "M8-CrSxxPuZB"
      }
    },
    {
      "cell_type": "code",
      "source": [],
      "metadata": {
        "id": "FCXm6XDGPy7x"
      },
      "execution_count": null,
      "outputs": []
    },
    {
      "cell_type": "markdown",
      "source": [
        "❓ 38. 문자열 `s = 'python'`이 5글자 이상이면 `'긴 문자열'`을 출력하세요."
      ],
      "metadata": {
        "id": "I46hyxHtP844"
      }
    },
    {
      "cell_type": "code",
      "source": [],
      "metadata": {
        "id": "vVP-DWj1Q8VD"
      },
      "execution_count": null,
      "outputs": []
    },
    {
      "cell_type": "markdown",
      "source": [
        "❓ 39. 변수 `num = 8`이 짝수이면 `'짝수입니다.'`, 홀수이면 `'홀수입니다.'`를 출력하는 `if-else` 문을 작성하세요."
      ],
      "metadata": {
        "id": "7qwzOElQQ-M1"
      }
    },
    {
      "cell_type": "code",
      "source": [],
      "metadata": {
        "id": "lpLeB7IDRW76"
      },
      "execution_count": null,
      "outputs": []
    },
    {
      "cell_type": "markdown",
      "source": [
        "❓ 40. `for`문의 반복 대상으로 사용될 수 있는 리스트, 튜플, 문자열, `range` 객체 등을 통칭하는 용어는?\n"
      ],
      "metadata": {
        "id": "G-MWQyRCRZNe"
      }
    },
    {
      "cell_type": "markdown",
      "source": [
        "❓ 41. `for`문을 사용하여 0~5까지 정수를 하나씩 출력하세요."
      ],
      "metadata": {
        "id": "miEe_XR3Rk5B"
      }
    },
    {
      "cell_type": "code",
      "source": [],
      "metadata": {
        "id": "0t2_PpGURugU"
      },
      "execution_count": null,
      "outputs": []
    },
    {
      "cell_type": "markdown",
      "source": [
        "❓ 42. 리스트 `[0, 2, 3, 5]`의 각 원소를 제곱하여 하나씩 출력하세요."
      ],
      "metadata": {
        "id": "A_IZ_OrSRwbW"
      }
    },
    {
      "cell_type": "code",
      "source": [],
      "metadata": {
        "id": "pxq9AiLQRzFs"
      },
      "execution_count": null,
      "outputs": []
    },
    {
      "cell_type": "markdown",
      "source": [
        "❓ 43. 문자열 `'김판다'`를 `for`문을 사용하여 거꾸로 한 글자씩 출력하세요."
      ],
      "metadata": {
        "id": "762fAlZjR1Ss"
      }
    },
    {
      "cell_type": "code",
      "source": [],
      "metadata": {
        "id": "N4vO7h38R4_i"
      },
      "execution_count": null,
      "outputs": []
    },
    {
      "cell_type": "markdown",
      "source": [
        "❓ 44. `for` 문을 사용해 리스트 `[1, 2, 3, 4]`의 모든 원소의 합을 구하고 출력하세요."
      ],
      "metadata": {
        "id": "pq01MwKuR6_s"
      }
    },
    {
      "cell_type": "code",
      "source": [],
      "metadata": {
        "id": "rNYVdITaR_DK"
      },
      "execution_count": null,
      "outputs": []
    },
    {
      "cell_type": "markdown",
      "source": [
        "---\n",
        "### 함수\n",
        "\n",
        "❓ 45. 함수의 입력값을 받기 위해 정의된 변수를 무엇이라고 하나요?\n",
        "\n",
        "\n",
        "❓ 46. 함수를 호출할 때, 실제 매개변수에 전달되는 값을 무엇이라고 하나요?\n",
        "\n",
        "\n",
        "❓ 47. 매개변수에 별도의 인수가 전달되지 않을 때 자동으로 전달되는 인수를 무엇이라고 하나요?\n",
        "\n"
      ],
      "metadata": {
        "id": "53OXdkCPSERf"
      }
    },
    {
      "cell_type": "markdown",
      "source": [
        "❓ 48. 두 개의 숫자를 입력받아 합을 반환하는 함수 `add`를 키워드 `def`로 정의하고 3, 4의 합을 출력하세요."
      ],
      "metadata": {
        "id": "n71ZT68BSYDF"
      }
    },
    {
      "cell_type": "code",
      "source": [],
      "metadata": {
        "id": "lSsAmmhtSbgn"
      },
      "execution_count": null,
      "outputs": []
    },
    {
      "cell_type": "markdown",
      "source": [
        "❓ 49. 두 개의 숫자를 입력받아 합을 반환하는 함수를 `lambda` 함수로 정의하세요."
      ],
      "metadata": {
        "id": "G-ugzo1FSfzK"
      }
    },
    {
      "cell_type": "code",
      "source": [],
      "metadata": {
        "id": "9qLhoIaASdhQ"
      },
      "execution_count": null,
      "outputs": []
    },
    {
      "cell_type": "markdown",
      "source": [
        "❓ 50. 아래 함수가 주어졌을 때, `func(1, 3)`의 출력 결과를 확인하세요.\n",
        "\n",
        "```python\n",
        "def func(x=0, y=1, z=2):\n",
        "    return x + y + z\n",
        "```\n"
      ],
      "metadata": {
        "id": "Seui7rifSkwl"
      }
    },
    {
      "cell_type": "code",
      "source": [],
      "metadata": {
        "id": "ZMaWbQmFSqcY"
      },
      "execution_count": null,
      "outputs": []
    },
    {
      "cell_type": "markdown",
      "source": [
        "❓ 51. 50번 문제에서 각 매개변수에 전달된 인수는 무엇인가요?\n",
        "\n",
        "\n"
      ],
      "metadata": {
        "id": "I21sB8ZMSskT"
      }
    },
    {
      "cell_type": "markdown",
      "source": [
        "---\n",
        "### 클래스와 모듈\n",
        "\n",
        "❓ 52. 사용자 정의 자료형을 생성하는 틀 역할을 하는 것은 무엇인가요?\n",
        "\n",
        "\n",
        "❓ 53. 클래스로부터 만들어진 실체이며, 클래스의 속성과 메서드를 사용할 수 있는 것은 무엇인가요?\n",
        "\n",
        "\n",
        "❓ 54. 클래스 내부에서 선언되는 변수로, 객체에 데이터를 저장하는 것은 무엇인가요?\n",
        "\n",
        "\n",
        "❓ 55. 클래스 내부에서 정의된 함수로, 객체의 동작을 정의하는 것은 무엇인가요?\n",
        "\n"
      ],
      "metadata": {
        "id": "DXuq8ytKSw01"
      }
    },
    {
      "cell_type": "markdown",
      "source": [
        "❓ 56. **random** 모듈을 불러오는 코드를 작성하세요."
      ],
      "metadata": {
        "id": "wz01xa1PS9Jh"
      }
    },
    {
      "cell_type": "code",
      "source": [],
      "metadata": {
        "id": "UXbVomukTAdW"
      },
      "execution_count": null,
      "outputs": []
    },
    {
      "cell_type": "markdown",
      "source": [
        "❓ 57. **pandas** 모듈을 `pd`라는 이름으로 불러오는 코드를 작성하세요."
      ],
      "metadata": {
        "id": "1RvA-vi6TCKd"
      }
    },
    {
      "cell_type": "code",
      "source": [],
      "metadata": {
        "id": "cOpLZLBdTF2K"
      },
      "execution_count": null,
      "outputs": []
    },
    {
      "cell_type": "markdown",
      "source": [
        "## 연습 문제 (해답)\n"
      ],
      "metadata": {
        "id": "sxOBo63RVys0"
      }
    },
    {
      "cell_type": "markdown",
      "source": [
        "### 변수\n",
        "\n",
        "❓ 1. 변수를 사용하는 이유를 설명하세요.\n",
        "\n",
        "```\n",
        "✔\n",
        "변수는 데이터를 저장하고 재사용할 수 있도록 하며, 코드의 가독성을 높이고 유지보수를 쉽게 해줍니다.\n",
        "```"
      ],
      "metadata": {
        "id": "OxJU4Kf2Vys1"
      }
    },
    {
      "cell_type": "markdown",
      "source": [
        "❓ 2. `x`에 5를 할당한 후, `x`의 값을 출력하세요."
      ],
      "metadata": {
        "id": "hlwCjYswVys1"
      }
    },
    {
      "cell_type": "code",
      "source": [
        "x = 5\n",
        "print(x)  # 5"
      ],
      "metadata": {
        "colab": {
          "base_uri": "https://localhost:8080/"
        },
        "id": "D8d9cxrQTFYh",
        "outputId": "cb562f89-57b1-470d-a77b-58379c470304"
      },
      "execution_count": 1,
      "outputs": [
        {
          "output_type": "stream",
          "name": "stdout",
          "text": [
            "5\n"
          ]
        }
      ]
    },
    {
      "cell_type": "markdown",
      "source": [
        "❓ 3. `x`와 `y`에 각각 5와 10을 저장한 후, 두 변수의 합을 출력하세요."
      ],
      "metadata": {
        "id": "9Uh77s2pVys2"
      }
    },
    {
      "cell_type": "code",
      "source": [
        "x = 5\n",
        "y = 10\n",
        "print(x + y)  # 15"
      ],
      "metadata": {
        "colab": {
          "base_uri": "https://localhost:8080/"
        },
        "outputId": "0bafb814-1429-4f75-a242-248ab84ea265",
        "id": "qe-WcQfCVys2"
      },
      "execution_count": 2,
      "outputs": [
        {
          "output_type": "stream",
          "name": "stdout",
          "text": [
            "15\n"
          ]
        }
      ]
    },
    {
      "cell_type": "markdown",
      "source": [
        "❓ 4. 다음 변수 선언 중 올바르지 않은 것을 찾으세요.\n",
        "\n",
        "```python\n",
        "1var = 10\n",
        "my-var = 20\n",
        "_name2 = 'Python'\n",
        "True = 5\n",
        "```\n",
        "\n",
        "✔️\n",
        "```python\n",
        "1var = 10  # 숫자로 시작 불가\n",
        "my-var = 20  # 하이픈(-) 사용 불가\n",
        "_name2 = 'Python'\n",
        "True = 5  # 키워드 사용 불가\n",
        "```"
      ],
      "metadata": {
        "id": "_Du7Wr11Vys2"
      }
    },
    {
      "cell_type": "markdown",
      "source": [
        "❓ 5. 변수 `x`에 10을 할당한 후, 값을 5 증가시켜 업데이트한 뒤 출력하세요."
      ],
      "metadata": {
        "id": "bQUxqGV-Vys2"
      }
    },
    {
      "cell_type": "code",
      "source": [
        "x = 10\n",
        "x = x + 5\n",
        "print(x)  # 15"
      ],
      "metadata": {
        "colab": {
          "base_uri": "https://localhost:8080/"
        },
        "outputId": "1b2ca1ce-997f-4722-e186-e83a28b9e8d7",
        "id": "hdUhXMpeVys3"
      },
      "execution_count": 3,
      "outputs": [
        {
          "output_type": "stream",
          "name": "stdout",
          "text": [
            "15\n"
          ]
        }
      ]
    },
    {
      "cell_type": "markdown",
      "source": [
        "---\n",
        "\n",
        "### 스칼라 자료형\n",
        "\n",
        "❓ 6. 정수 10의 자료형을 확인하는 코드를 작성하세요."
      ],
      "metadata": {
        "id": "yWJBm2FYVys3"
      }
    },
    {
      "cell_type": "code",
      "source": [
        "type(10)    # 출력: int"
      ],
      "metadata": {
        "colab": {
          "base_uri": "https://localhost:8080/"
        },
        "outputId": "d4dd937d-ee3a-43b3-da86-ded308920840",
        "id": "NxyRHNZSVys3"
      },
      "execution_count": 4,
      "outputs": [
        {
          "output_type": "execute_result",
          "data": {
            "text/plain": [
              "int"
            ]
          },
          "metadata": {},
          "execution_count": 4
        }
      ]
    },
    {
      "cell_type": "markdown",
      "source": [
        "❓ 7. `x = 3.99`일 때, `x`를 정수형으로 변환하는 코드를 작성하고 결과를 예측하세요."
      ],
      "metadata": {
        "id": "iGYcpwWhVys3"
      }
    },
    {
      "cell_type": "code",
      "source": [
        "x = 3.99\n",
        "int(x)  # 출력: 3 (소수점 이하 버림)"
      ],
      "metadata": {
        "colab": {
          "base_uri": "https://localhost:8080/"
        },
        "outputId": "da105a1b-ee4b-42ea-a1b3-d2792330ddbc",
        "id": "mZpf6sQeVys3"
      },
      "execution_count": 5,
      "outputs": [
        {
          "output_type": "execute_result",
          "data": {
            "text/plain": [
              "3"
            ]
          },
          "metadata": {},
          "execution_count": 5
        }
      ]
    },
    {
      "cell_type": "markdown",
      "source": [
        "❓ 8. `7 // 2`와 `7 / 2`를 출력하고, 차이를 설명하세요."
      ],
      "metadata": {
        "id": "kRYolminVys3"
      }
    },
    {
      "cell_type": "code",
      "source": [
        "print(7 // 2)  # 3 (몫)\n",
        "print(7 / 2)   # 3.5 (일반 나눗셈)"
      ],
      "metadata": {
        "colab": {
          "base_uri": "https://localhost:8080/"
        },
        "outputId": "b63391d3-1790-48bf-8454-25eb7e194d69",
        "id": "saewIB4xVys3"
      },
      "execution_count": 6,
      "outputs": [
        {
          "output_type": "stream",
          "name": "stdout",
          "text": [
            "3\n",
            "3.5\n"
          ]
        }
      ]
    },
    {
      "cell_type": "markdown",
      "source": [
        "❓ 9. 변수 `s = '3.14'`를 실수형으로 변환하는 코드를 작성하세요."
      ],
      "metadata": {
        "id": "tQ1CW0YYVys4"
      }
    },
    {
      "cell_type": "code",
      "source": [
        "s = '3.14'\n",
        "float(s)  # 출력: 3.14"
      ],
      "metadata": {
        "colab": {
          "base_uri": "https://localhost:8080/"
        },
        "outputId": "6cfd19f0-2b70-4a3d-ab5a-7bd20702b1be",
        "id": "taLS-oHKVys4"
      },
      "execution_count": 7,
      "outputs": [
        {
          "output_type": "execute_result",
          "data": {
            "text/plain": [
              "3.14"
            ]
          },
          "metadata": {},
          "execution_count": 7
        }
      ]
    },
    {
      "cell_type": "markdown",
      "source": [
        "❓ 10. `float(10)`의 출력 결과를 예측하세요."
      ],
      "metadata": {
        "id": "YLbbdLWyVys4"
      }
    },
    {
      "cell_type": "code",
      "source": [
        "print(float(10))  # 10.0"
      ],
      "metadata": {
        "colab": {
          "base_uri": "https://localhost:8080/"
        },
        "outputId": "8a9b92bd-ae3f-4a9e-bde3-7815d366fb9d",
        "id": "J0H29-KoVys4"
      },
      "execution_count": 8,
      "outputs": [
        {
          "output_type": "stream",
          "name": "stdout",
          "text": [
            "10.0\n"
          ]
        }
      ]
    },
    {
      "cell_type": "markdown",
      "source": [
        "❓11. 변수 `s = 'Hello'`일 때, `s[0]`과 `s[-1]`의 값을 출력하세요."
      ],
      "metadata": {
        "id": "4TP0ycBwVys4"
      }
    },
    {
      "cell_type": "code",
      "source": [
        "s = 'Hello'\n",
        "print(s[0])   # 'H'\n",
        "print(s[-1])  # 'o'"
      ],
      "metadata": {
        "colab": {
          "base_uri": "https://localhost:8080/"
        },
        "outputId": "457462da-dfb2-49b5-f585-5ab353772a45",
        "id": "TGuP50oXVys4"
      },
      "execution_count": 9,
      "outputs": [
        {
          "output_type": "stream",
          "name": "stdout",
          "text": [
            "H\n",
            "o\n"
          ]
        }
      ]
    },
    {
      "cell_type": "markdown",
      "source": [
        "❓ 12. `a = '김판다'`일 때, `a`의 길이를 출력하세요."
      ],
      "metadata": {
        "id": "FoDKk1ztVys4"
      }
    },
    {
      "cell_type": "code",
      "source": [
        "a = '김판다'\n",
        "print(len(a))  # 3"
      ],
      "metadata": {
        "colab": {
          "base_uri": "https://localhost:8080/"
        },
        "outputId": "310b14d6-1d5b-4357-df51-7f6bead61379",
        "id": "IDTEjwteVys4"
      },
      "execution_count": 10,
      "outputs": [
        {
          "output_type": "stream",
          "name": "stdout",
          "text": [
            "3\n"
          ]
        }
      ]
    },
    {
      "cell_type": "markdown",
      "source": [
        "❓ 13. `'123' + '456'`의 출력 결과를 예측하세요."
      ],
      "metadata": {
        "id": "zf-0f4sfVys4"
      }
    },
    {
      "cell_type": "code",
      "source": [
        "print('123' + '456')  # '123456'"
      ],
      "metadata": {
        "colab": {
          "base_uri": "https://localhost:8080/"
        },
        "outputId": "bde77164-0155-4759-a0ad-7c1d543ac4c3",
        "id": "MtDZGuyzVys5"
      },
      "execution_count": 11,
      "outputs": [
        {
          "output_type": "stream",
          "name": "stdout",
          "text": [
            "123456\n"
          ]
        }
      ]
    },
    {
      "cell_type": "markdown",
      "source": [
        "❓ 14. 문자열 `s = 'Hello, World!'`에서 마지막 6글자만 출력하세요."
      ],
      "metadata": {
        "id": "CSjsGqIbVys5"
      }
    },
    {
      "cell_type": "code",
      "source": [
        "s = 'Hello, World!'\n",
        "print(s[-6:])  # 'World!'"
      ],
      "metadata": {
        "colab": {
          "base_uri": "https://localhost:8080/"
        },
        "outputId": "6caeda01-13e5-4284-f5c8-d6b6250121c0",
        "id": "V23E044dVys5"
      },
      "execution_count": 12,
      "outputs": [
        {
          "output_type": "stream",
          "name": "stdout",
          "text": [
            "World!\n"
          ]
        }
      ]
    },
    {
      "cell_type": "markdown",
      "source": [
        "❓ 15. 문자열 s = '12345'에서 홀수 번째 문자만 출력하세요."
      ],
      "metadata": {
        "id": "nBNk9piwVys5"
      }
    },
    {
      "cell_type": "code",
      "source": [
        "s = '12345'\n",
        "print(s[::2])  # '135'"
      ],
      "metadata": {
        "colab": {
          "base_uri": "https://localhost:8080/"
        },
        "outputId": "84a13d97-2309-4edf-ce82-4fa8e454be0a",
        "id": "fVTqPSnCVys5"
      },
      "execution_count": 13,
      "outputs": [
        {
          "output_type": "stream",
          "name": "stdout",
          "text": [
            "135\n"
          ]
        }
      ]
    },
    {
      "cell_type": "markdown",
      "source": [
        "❓ 16. `5 * 2`의 결과가 `10.0`과 같은지 비교하여 불(`bool`) 자료형을 출력하세요."
      ],
      "metadata": {
        "id": "w-S1JXLiVys5"
      }
    },
    {
      "cell_type": "code",
      "source": [
        "print(5 * 2 == 10.0)  # True: 같다"
      ],
      "metadata": {
        "colab": {
          "base_uri": "https://localhost:8080/"
        },
        "outputId": "1e35edf8-fc4d-4d3b-b3c7-9e06672dd7f9",
        "id": "yPkgpXU_Vys5"
      },
      "execution_count": 14,
      "outputs": [
        {
          "output_type": "stream",
          "name": "stdout",
          "text": [
            "True\n"
          ]
        }
      ]
    },
    {
      "cell_type": "markdown",
      "source": [
        "❓ 17. 문자열 `'hello'`와 `'Hello'`를 다르다(`!=`) 연산으로 비교하여 불(`bool`) 자료형을 출력하세요."
      ],
      "metadata": {
        "id": "n4n95xudVys5"
      }
    },
    {
      "cell_type": "code",
      "source": [
        "print('hello' != 'Hello')  # True: 다르다"
      ],
      "metadata": {
        "colab": {
          "base_uri": "https://localhost:8080/"
        },
        "outputId": "0e2056dc-0bb7-4cce-cf62-eef3b33a8506",
        "id": "si0-0qEpVys6"
      },
      "execution_count": 15,
      "outputs": [
        {
          "output_type": "stream",
          "name": "stdout",
          "text": [
            "True\n"
          ]
        }
      ]
    },
    {
      "cell_type": "markdown",
      "source": [
        "❓ 18. 변수 `a`에 `True`, `b`에 `False`를 할당한 후, `a + b`의 결과를 출력하세요."
      ],
      "metadata": {
        "id": "umf9ExJKVys6"
      }
    },
    {
      "cell_type": "code",
      "source": [
        "a = True\n",
        "b = False\n",
        "print(a + b)  # 1 (True는 1, False는 0으로 간주)"
      ],
      "metadata": {
        "colab": {
          "base_uri": "https://localhost:8080/"
        },
        "outputId": "76798053-7822-444d-cb18-1966a58d4013",
        "id": "G8JONfA_Vys6"
      },
      "execution_count": 16,
      "outputs": [
        {
          "output_type": "stream",
          "name": "stdout",
          "text": [
            "1\n"
          ]
        }
      ]
    },
    {
      "cell_type": "markdown",
      "source": [
        "---\n",
        "\n",
        "### 컬렉션 자료형\n",
        "\n",
        "❓ 19. 리스트 `[1, 2, 3]`과 `[4, 5, 6]`을 합쳐 하나의 리스트를 출력하세요.\n",
        "\n",
        "\n",
        "\n",
        "\n",
        "\n"
      ],
      "metadata": {
        "id": "VmwCNEv2Vys6"
      }
    },
    {
      "cell_type": "code",
      "source": [
        "print([1, 2, 3] + [4, 5, 6])  # [1, 2, 3, 4, 5, 6]"
      ],
      "metadata": {
        "colab": {
          "base_uri": "https://localhost:8080/"
        },
        "outputId": "e5f57666-812a-4f70-a8c9-124df66b1ff7",
        "id": "MdRtSO-eVys6"
      },
      "execution_count": 17,
      "outputs": [
        {
          "output_type": "stream",
          "name": "stdout",
          "text": [
            "[1, 2, 3, 4, 5, 6]\n"
          ]
        }
      ]
    },
    {
      "cell_type": "markdown",
      "source": [
        "❓20. 리스트 `numbers = [10, 20, 30, 40]`에서 첫 번째 원소를 출력하세요."
      ],
      "metadata": {
        "id": "-dz4YIL-Vys6"
      }
    },
    {
      "cell_type": "code",
      "source": [
        "numbers = [10, 20, 30, 40]\n",
        "print(numbers[0])  # 10"
      ],
      "metadata": {
        "colab": {
          "base_uri": "https://localhost:8080/"
        },
        "outputId": "cf194528-1ea8-4c04-b758-ae04f6c3bd79",
        "id": "anFQpbEXVys7"
      },
      "execution_count": 18,
      "outputs": [
        {
          "output_type": "stream",
          "name": "stdout",
          "text": [
            "10\n"
          ]
        }
      ]
    },
    {
      "cell_type": "markdown",
      "source": [
        "❓ 21. 리스트 `numbers = [10, 20, 30, 40]`의 길이를 출력하세요."
      ],
      "metadata": {
        "id": "xq1leUBVVys7"
      }
    },
    {
      "cell_type": "code",
      "source": [
        "numbers = [10, 20, 30, 40]\n",
        "print(len(numbers))  # 4"
      ],
      "metadata": {
        "colab": {
          "base_uri": "https://localhost:8080/"
        },
        "outputId": "0b93b5a2-00fd-43fd-f9a4-6fdc711c6a4c",
        "id": "o_ABDQuyVys7"
      },
      "execution_count": 19,
      "outputs": [
        {
          "output_type": "stream",
          "name": "stdout",
          "text": [
            "4\n"
          ]
        }
      ]
    },
    {
      "cell_type": "markdown",
      "source": [
        "❓ 22. 리스트 `numbers =[10, 20, 30, 40, 50]`에서 앞의 3개 원소만 출력하세요."
      ],
      "metadata": {
        "id": "7kMMVL6HVys7"
      }
    },
    {
      "cell_type": "code",
      "source": [
        "numbers = [10, 20, 30, 40, 50]\n",
        "print(numbers[:3])  # [10, 20, 30]"
      ],
      "metadata": {
        "colab": {
          "base_uri": "https://localhost:8080/"
        },
        "outputId": "2acc39b1-03b7-439e-a59e-52213613caab",
        "id": "FL9JZLgFVys7"
      },
      "execution_count": 20,
      "outputs": [
        {
          "output_type": "stream",
          "name": "stdout",
          "text": [
            "[10, 20, 30]\n"
          ]
        }
      ]
    },
    {
      "cell_type": "markdown",
      "source": [
        "❓ 23. 튜플 `t = (10, 20, 30, 40, 50)`에서 세 번째 원소를 출력하세요."
      ],
      "metadata": {
        "id": "5Fr63jaFVys7"
      }
    },
    {
      "cell_type": "code",
      "source": [
        "t = (10, 20, 30, 40, 50)\n",
        "print(t[2])  # 30"
      ],
      "metadata": {
        "colab": {
          "base_uri": "https://localhost:8080/"
        },
        "outputId": "995133e6-8bca-4eca-e981-d2aa489840e5",
        "id": "7EkqkXGtVys7"
      },
      "execution_count": 21,
      "outputs": [
        {
          "output_type": "stream",
          "name": "stdout",
          "text": [
            "30\n"
          ]
        }
      ]
    },
    {
      "cell_type": "markdown",
      "source": [
        "❓ 24. 두 개의 튜플 `(1, 2, 3)`과 `(4, 5, 6)`을 하나의 튜플로 합치고 출력하세요."
      ],
      "metadata": {
        "id": "QSWnxl3jVys7"
      }
    },
    {
      "cell_type": "code",
      "source": [
        "print((1, 2, 3) + (4, 5, 6))  # (1, 2, 3, 4, 5, 6)"
      ],
      "metadata": {
        "colab": {
          "base_uri": "https://localhost:8080/"
        },
        "outputId": "fe9ee07e-18dc-4497-ebd0-f408ac327008",
        "id": "r5yoL5tiVys7"
      },
      "execution_count": 22,
      "outputs": [
        {
          "output_type": "stream",
          "name": "stdout",
          "text": [
            "(1, 2, 3, 4, 5, 6)\n"
          ]
        }
      ]
    },
    {
      "cell_type": "markdown",
      "source": [
        "❓ 25. 튜플 언패킹을 사용하여 변수 `x`에 5, 변수 `y`에 10을 할당하세요."
      ],
      "metadata": {
        "id": "XRpq9hZ4Vys7"
      }
    },
    {
      "cell_type": "code",
      "source": [
        "x, y = 5, 10"
      ],
      "metadata": {
        "id": "7ud64mgMVys7"
      },
      "execution_count": 23,
      "outputs": []
    },
    {
      "cell_type": "markdown",
      "source": [
        "❓ 26. 딕셔너리 `d = {'A': 10, 'B': 20, 'C': 30}`에서 키 `'B'`의 밸류를 출력하세요."
      ],
      "metadata": {
        "id": "krI4xNtkVys7"
      }
    },
    {
      "cell_type": "code",
      "source": [
        "d = {'A': 10, 'B': 20, 'C': 30}\n",
        "print(d['B'])  # 20"
      ],
      "metadata": {
        "colab": {
          "base_uri": "https://localhost:8080/"
        },
        "outputId": "6f26e8e9-4502-464a-95d8-ecbdfb403760",
        "id": "KjDQJuFYVys7"
      },
      "execution_count": 24,
      "outputs": [
        {
          "output_type": "stream",
          "name": "stdout",
          "text": [
            "20\n"
          ]
        }
      ]
    },
    {
      "cell_type": "markdown",
      "source": [
        "❓ 27. 빈 딕셔너리 `d = {}`에 키 `'X'`와 밸류 100을 추가하는 코드를 작성하세요."
      ],
      "metadata": {
        "id": "r-ccmSv2Vys8"
      }
    },
    {
      "cell_type": "code",
      "source": [
        "d = {}\n",
        "d['X'] = 100\n",
        "print(d)  # {'X': 100}"
      ],
      "metadata": {
        "colab": {
          "base_uri": "https://localhost:8080/"
        },
        "outputId": "7ef15d2a-4dd2-4cd7-c65c-f48bc4723d99",
        "id": "wkiDQj0OVys8"
      },
      "execution_count": 25,
      "outputs": [
        {
          "output_type": "stream",
          "name": "stdout",
          "text": [
            "{'X': 100}\n"
          ]
        }
      ]
    },
    {
      "cell_type": "markdown",
      "source": [
        "❓28. 딕셔너리 `d = {'apple': 3, 'banana': 5}`에서 키 `'banana'`의 밸류를 10으로 변경하는 코드를 작성하세요."
      ],
      "metadata": {
        "id": "jXiIV4FwVys8"
      }
    },
    {
      "cell_type": "code",
      "source": [
        "d = {'apple': 3, 'banana': 5}\n",
        "d['banana'] = 10\n",
        "print(d)  # {'apple': 3, 'banana': 10}"
      ],
      "metadata": {
        "colab": {
          "base_uri": "https://localhost:8080/"
        },
        "outputId": "c899aacd-ea31-4564-c014-c5c70f92edfb",
        "id": "2F_MgPkGVys8"
      },
      "execution_count": 26,
      "outputs": [
        {
          "output_type": "stream",
          "name": "stdout",
          "text": [
            "{'apple': 3, 'banana': 10}\n"
          ]
        }
      ]
    },
    {
      "cell_type": "markdown",
      "source": [
        "❓ 29. 딕셔너리 `d = {'a': 1, 'b': 2, 'a': 3}`의 출력 결과를 예측하세요."
      ],
      "metadata": {
        "id": "yAcZSR2bVys8"
      }
    },
    {
      "cell_type": "code",
      "source": [
        "d = {'a': 1, 'b': 2, 'a': 3}\n",
        "print(d)  # {'a': 3, 'b': 2}"
      ],
      "metadata": {
        "colab": {
          "base_uri": "https://localhost:8080/"
        },
        "outputId": "a6d96fcf-bb37-4362-f0bd-ed3555142c7a",
        "id": "EQkwZxXEVys8"
      },
      "execution_count": 27,
      "outputs": [
        {
          "output_type": "stream",
          "name": "stdout",
          "text": [
            "{'a': 3, 'b': 2}\n"
          ]
        }
      ]
    },
    {
      "cell_type": "markdown",
      "source": [
        "❓ 30. 집합 `set1 = {3, 2, 1, 3}`의 출력 결과를 예측하세요."
      ],
      "metadata": {
        "id": "0Ryt-SlkVys8"
      }
    },
    {
      "cell_type": "code",
      "source": [
        "set1 = {3, 2, 1, 3}\n",
        "print(set1)  # {1, 2, 3}"
      ],
      "metadata": {
        "colab": {
          "base_uri": "https://localhost:8080/"
        },
        "outputId": "7d03591a-4a4a-42e3-9817-c347d9301550",
        "id": "7OtXCGlRVys8"
      },
      "execution_count": 28,
      "outputs": [
        {
          "output_type": "stream",
          "name": "stdout",
          "text": [
            "{1, 2, 3}\n"
          ]
        }
      ]
    },
    {
      "cell_type": "markdown",
      "source": [
        "---\n",
        "### Null과 키워드\n",
        "\n",
        "❓ 31. `x = None`일 때, `x`의 자료형을 출력하세요."
      ],
      "metadata": {
        "id": "N9lhnsljVys8"
      }
    },
    {
      "cell_type": "code",
      "source": [
        "x = None\n",
        "print(type(x))  # <class 'NoneType'>"
      ],
      "metadata": {
        "colab": {
          "base_uri": "https://localhost:8080/"
        },
        "outputId": "81d923c5-8660-4526-f9de-93b17e312cf3",
        "id": "gxPUWHlwVys8"
      },
      "execution_count": 29,
      "outputs": [
        {
          "output_type": "stream",
          "name": "stdout",
          "text": [
            "<class 'NoneType'>\n"
          ]
        }
      ]
    },
    {
      "cell_type": "markdown",
      "source": [
        "❓ 32. `None`과 빈 문자열 `''`이 같은지 비교해 출력하세요."
      ],
      "metadata": {
        "id": "vWeDDCCPVys8"
      }
    },
    {
      "cell_type": "code",
      "source": [
        "print(None == '')  # False"
      ],
      "metadata": {
        "colab": {
          "base_uri": "https://localhost:8080/"
        },
        "outputId": "0c2104b9-9f73-4eb0-9233-84c382a79dfe",
        "id": "sXMlfHz7Vys8"
      },
      "execution_count": 30,
      "outputs": [
        {
          "output_type": "stream",
          "name": "stdout",
          "text": [
            "False\n"
          ]
        }
      ]
    },
    {
      "cell_type": "markdown",
      "source": [
        "❓ 33. `NaN`을 생성하고 변수 `a`에 할당한 뒤, 변수 `a`의 자료형을 출력하세요."
      ],
      "metadata": {
        "id": "JBVQq4xWVys8"
      }
    },
    {
      "cell_type": "code",
      "source": [
        "a = float('nan')\n",
        "print(type(a))  # <class 'float'>"
      ],
      "metadata": {
        "colab": {
          "base_uri": "https://localhost:8080/"
        },
        "outputId": "e3dca15a-493d-4d56-fe13-9b091686701e",
        "id": "EPf0VsAqVys9"
      },
      "execution_count": 31,
      "outputs": [
        {
          "output_type": "stream",
          "name": "stdout",
          "text": [
            "<class 'float'>\n"
          ]
        }
      ]
    },
    {
      "cell_type": "markdown",
      "source": [
        "❓ 34. 변수 `a`에 `NaN`을 할당한 후, `a + 2`의 결과와 `a`와 `NaN`의 동등 비교(`==`) 결과를 출력하세요."
      ],
      "metadata": {
        "id": "Lrd1JGwyVys9"
      }
    },
    {
      "cell_type": "code",
      "source": [
        "a = float('nan')\n",
        "print(a + 2)  # nan\n",
        "print(a == float('nan'))  # False"
      ],
      "metadata": {
        "colab": {
          "base_uri": "https://localhost:8080/"
        },
        "outputId": "6dbe85c3-3311-4a93-85e2-26d7f680ea95",
        "id": "_KvcWnuhVys9"
      },
      "execution_count": 32,
      "outputs": [
        {
          "output_type": "stream",
          "name": "stdout",
          "text": [
            "nan\n",
            "False\n"
          ]
        }
      ]
    },
    {
      "cell_type": "markdown",
      "source": [
        "❓ 35. `a = (1, 2)`, `b = (1, 2)`일 때, `a is b`의 결과를 출력하세요."
      ],
      "metadata": {
        "id": "xpw_3puPVys9"
      }
    },
    {
      "cell_type": "code",
      "source": [
        "a = (1, 2)\n",
        "b = (1, 2)\n",
        "print(a is b)  # False"
      ],
      "metadata": {
        "colab": {
          "base_uri": "https://localhost:8080/"
        },
        "outputId": "2f9c371d-b352-47be-c918-6cbe649a2a4f",
        "id": "fcG9DVe9Vys9"
      },
      "execution_count": 33,
      "outputs": [
        {
          "output_type": "stream",
          "name": "stdout",
          "text": [
            "False\n"
          ]
        }
      ]
    },
    {
      "cell_type": "markdown",
      "source": [
        "❓ 36. 1이 리스트 `[1, 2, 3]`에 속하는지 확인하는 코드를 작성하세요."
      ],
      "metadata": {
        "id": "-4t8nTGpVys9"
      }
    },
    {
      "cell_type": "code",
      "source": [
        "1 in [1, 2, 3]  # 출력: True"
      ],
      "metadata": {
        "colab": {
          "base_uri": "https://localhost:8080/"
        },
        "outputId": "109cfc16-c63f-4667-ca7b-de24ad8a0ce8",
        "id": "iauyqTjWVys9"
      },
      "execution_count": 34,
      "outputs": [
        {
          "output_type": "execute_result",
          "data": {
            "text/plain": [
              "True"
            ]
          },
          "metadata": {},
          "execution_count": 34
        }
      ]
    },
    {
      "cell_type": "markdown",
      "source": [
        "---\n",
        "\n",
        "### 제어문\n",
        "\n",
        "❓ 37. `x = 5`일 때, `x`가 양수이면 `'양수입니다.'`를 출력하는 `if` 문을 작성하세요."
      ],
      "metadata": {
        "id": "b3tGXDruVys9"
      }
    },
    {
      "cell_type": "code",
      "source": [
        "x = 5\n",
        "if x > 0:\n",
        "    print('양수입니다.')  # '양수입니다.'"
      ],
      "metadata": {
        "colab": {
          "base_uri": "https://localhost:8080/"
        },
        "outputId": "228fc6e2-ee94-47f1-f1d9-db52ec9d8bd1",
        "id": "Pj-HlB2wVys9"
      },
      "execution_count": 35,
      "outputs": [
        {
          "output_type": "stream",
          "name": "stdout",
          "text": [
            "양수입니다.\n"
          ]
        }
      ]
    },
    {
      "cell_type": "markdown",
      "source": [
        "❓ 38. 문자열 `s = 'python'`이 5글자 이상이면 `'긴 문자열'`을 출력하세요."
      ],
      "metadata": {
        "id": "oKklm6KJVys9"
      }
    },
    {
      "cell_type": "code",
      "source": [
        "s = 'python'\n",
        "if len(s) >= 5:\n",
        "    print('긴 문자열')  # '긴 문자열'"
      ],
      "metadata": {
        "colab": {
          "base_uri": "https://localhost:8080/"
        },
        "outputId": "5be179ec-2862-411f-a578-5a18aed7d228",
        "id": "y5n6-aWKVys9"
      },
      "execution_count": 36,
      "outputs": [
        {
          "output_type": "stream",
          "name": "stdout",
          "text": [
            "긴 문자열\n"
          ]
        }
      ]
    },
    {
      "cell_type": "markdown",
      "source": [
        "❓ 39. 변수 `num = 8`이 짝수이면 `'짝수입니다.'`, 홀수이면 `'홀수입니다.'`를 출력하는 `if-else` 문을 작성하세요."
      ],
      "metadata": {
        "id": "W6J3BD5lVys9"
      }
    },
    {
      "cell_type": "code",
      "source": [
        "num = 8\n",
        "if num % 2 == 0:\n",
        "    print('짝수입니다.')  # '짝수입니다.'\n",
        "else:\n",
        "    print('홀수입니다.')"
      ],
      "metadata": {
        "colab": {
          "base_uri": "https://localhost:8080/"
        },
        "outputId": "b9f81c86-acfa-4b5a-a1c2-5f411aa87794",
        "id": "noulMVRiVys9"
      },
      "execution_count": 37,
      "outputs": [
        {
          "output_type": "stream",
          "name": "stdout",
          "text": [
            "짝수입니다.\n"
          ]
        }
      ]
    },
    {
      "cell_type": "markdown",
      "source": [
        "❓ 40. `for`문의 반복 대상으로 사용될 수 있는 리스트, 튜플, 문자열, `range` 객체 등을 통칭하는 용어는?\n",
        "\n",
        "```\n",
        "✔\n",
        "이터러블(iterable)\n",
        "```"
      ],
      "metadata": {
        "id": "zj6Op9cTVys-"
      }
    },
    {
      "cell_type": "markdown",
      "source": [
        "❓ 41. `for`문을 사용하여 0~5까지 정수를 하나씩 출력하세요."
      ],
      "metadata": {
        "id": "FqIokyGcVys-"
      }
    },
    {
      "cell_type": "code",
      "source": [
        "for i in range(6):\n",
        "    print(i)"
      ],
      "metadata": {
        "colab": {
          "base_uri": "https://localhost:8080/"
        },
        "outputId": "e5e42809-fb33-4f40-f002-62a71d92bfdb",
        "id": "1g-FuotjVys-"
      },
      "execution_count": 38,
      "outputs": [
        {
          "output_type": "stream",
          "name": "stdout",
          "text": [
            "0\n",
            "1\n",
            "2\n",
            "3\n",
            "4\n",
            "5\n"
          ]
        }
      ]
    },
    {
      "cell_type": "markdown",
      "source": [
        "❓ 42. 리스트 `[0, 2, 3, 5]`의 각 원소를 제곱하여 하나씩 출력하세요."
      ],
      "metadata": {
        "id": "3TacGaR2Vys-"
      }
    },
    {
      "cell_type": "code",
      "source": [
        "for num in [0, 2, 3, 5]:\n",
        "    print(num ** 2)"
      ],
      "metadata": {
        "colab": {
          "base_uri": "https://localhost:8080/"
        },
        "outputId": "edbbc1e5-a6c0-4722-e054-a0f255a37db7",
        "id": "a0fjjpBxVys-"
      },
      "execution_count": 39,
      "outputs": [
        {
          "output_type": "stream",
          "name": "stdout",
          "text": [
            "0\n",
            "4\n",
            "9\n",
            "25\n"
          ]
        }
      ]
    },
    {
      "cell_type": "markdown",
      "source": [
        "❓ 43. 문자열 `'김판다'`를 `for`문을 사용하여 거꾸로 한 글자씩 출력하세요."
      ],
      "metadata": {
        "id": "OHKL1T_DVys-"
      }
    },
    {
      "cell_type": "code",
      "source": [
        "word = '김판다'\n",
        "for i in word[::-1]:\n",
        "    print(i)"
      ],
      "metadata": {
        "colab": {
          "base_uri": "https://localhost:8080/"
        },
        "outputId": "46aa53e6-8b12-46de-e860-a1d248ab4187",
        "id": "91L_GdC1Vys-"
      },
      "execution_count": 40,
      "outputs": [
        {
          "output_type": "stream",
          "name": "stdout",
          "text": [
            "다\n",
            "판\n",
            "김\n"
          ]
        }
      ]
    },
    {
      "cell_type": "markdown",
      "source": [
        "❓ 44. `for` 문을 사용해 리스트 `[1, 2, 3, 4]`의 모든 원소의 합을 구하고 출력하세요."
      ],
      "metadata": {
        "id": "CGR1lm3WVys-"
      }
    },
    {
      "cell_type": "code",
      "source": [
        "total = 0\n",
        "for i in [1, 2, 3, 4]:\n",
        "    total += i  # total = total + i 와 동일\n",
        "print(total)  # 출력: 10"
      ],
      "metadata": {
        "colab": {
          "base_uri": "https://localhost:8080/"
        },
        "outputId": "51e1960a-9f91-4adc-ac73-d7aafc412347",
        "id": "e3L2VOsvVys-"
      },
      "execution_count": 41,
      "outputs": [
        {
          "output_type": "stream",
          "name": "stdout",
          "text": [
            "10\n"
          ]
        }
      ]
    },
    {
      "cell_type": "markdown",
      "source": [
        "---\n",
        "### 함수\n",
        "\n",
        "❓ 45. 함수의 입력값을 받기 위해 정의된 변수를 무엇이라고 하나요?\n",
        "\n",
        "```\n",
        "✔\n",
        "매개변수\n",
        "```\n",
        "\n",
        "❓ 46. 함수를 호출할 때, 실제 매개변수에 전달되는 값을 무엇이라고 하나요?\n",
        "\n",
        "```\n",
        "✔\n",
        "인수\n",
        "```\n",
        "\n",
        "❓ 47. 매개변수에 별도의 인수가 전달되지 않을 때 자동으로 전달되는 인수를 무엇이라고 하나요?\n",
        "\n",
        "```\n",
        "✔\n",
        "기본값(default)\n",
        "```"
      ],
      "metadata": {
        "id": "ZXpOOABAVys-"
      }
    },
    {
      "cell_type": "markdown",
      "source": [
        "❓ 48. 두 개의 숫자를 입력받아 합을 반환하는 함수 `add`를 키워드 `def`로 정의하고 3, 4의 합을 출력하세요."
      ],
      "metadata": {
        "id": "R8qYzRMPVys-"
      }
    },
    {
      "cell_type": "code",
      "source": [
        "def add(a, b):\n",
        "    return a + b\n",
        "\n",
        "print(add(3, 4))  # 7"
      ],
      "metadata": {
        "colab": {
          "base_uri": "https://localhost:8080/"
        },
        "outputId": "295733d5-c9b4-4ce1-8b45-64853444ed8d",
        "id": "BzKyQiWqVys-"
      },
      "execution_count": 42,
      "outputs": [
        {
          "output_type": "stream",
          "name": "stdout",
          "text": [
            "7\n"
          ]
        }
      ]
    },
    {
      "cell_type": "markdown",
      "source": [
        "❓ 49. 두 개의 숫자를 입력받아 합을 반환하는 함수를 `lambda` 함수로 정의하세요."
      ],
      "metadata": {
        "id": "q5xPP8hSVys-"
      }
    },
    {
      "cell_type": "code",
      "source": [
        "lambda a, b: a + b"
      ],
      "metadata": {
        "colab": {
          "base_uri": "https://localhost:8080/"
        },
        "outputId": "63d2b60a-7c20-49c5-bc1c-ee254c87886a",
        "id": "n1X6zFCkVys-"
      },
      "execution_count": 43,
      "outputs": [
        {
          "output_type": "execute_result",
          "data": {
            "text/plain": [
              "<function __main__.<lambda>(a, b)>"
            ]
          },
          "metadata": {},
          "execution_count": 43
        }
      ]
    },
    {
      "cell_type": "markdown",
      "source": [
        "❓ 50. 아래 함수가 주어졌을 때, `func(1, 3)`의 출력 결과를 확인하세요.\n",
        "\n",
        "```python\n",
        "def func(x=0, y=1, z=2):\n",
        "    return x + y + z\n",
        "```\n"
      ],
      "metadata": {
        "id": "vyOFi6SrVys-"
      }
    },
    {
      "cell_type": "code",
      "source": [
        "def func(x=0, y=1, z=2):\n",
        "    return x + y + z\n",
        "\n",
        "print(func(1, 3))  # 6"
      ],
      "metadata": {
        "colab": {
          "base_uri": "https://localhost:8080/"
        },
        "outputId": "abebe30d-91d5-4792-ceec-160c78f4a3d3",
        "id": "-sT-R0I4Vys-"
      },
      "execution_count": 44,
      "outputs": [
        {
          "output_type": "stream",
          "name": "stdout",
          "text": [
            "6\n"
          ]
        }
      ]
    },
    {
      "cell_type": "markdown",
      "source": [
        "❓ 51. 50번 문제에서 각 매개변수에 전달된 인수는 무엇인가요?\n",
        "\n",
        "```\n",
        "✔\n",
        "x=1, y=3, z=2\n",
        "```\n"
      ],
      "metadata": {
        "id": "C5CjEo4fVys_"
      }
    },
    {
      "cell_type": "markdown",
      "source": [
        "---\n",
        "### 클래스와 모듈\n",
        "\n",
        "❓ 52. 사용자 정의 자료형을 생성하는 틀 역할을 하는 것은 무엇인가요?\n",
        "\n",
        "```\n",
        "✔\n",
        "클래스\n",
        "```\n",
        "\n",
        "❓ 53. 클래스로부터 만들어진 실체이며, 클래스의 속성과 메서드를 사용할 수 있는 것은 무엇인가요?\n",
        "\n",
        "```\n",
        "✔\n",
        "객체\n",
        "```\n",
        "\n",
        "❓ 54. 클래스 내부에서 선언되는 변수로, 객체에 데이터를 저장하는 것은 무엇인가요?\n",
        "\n",
        "```\n",
        "✔\n",
        "속성\n",
        "```\n",
        "\n",
        "❓ 55. 클래스 내부에서 정의된 함수로, 객체의 동작을 정의하는 것은 무엇인가요?\n",
        "\n",
        "```\n",
        "✔\n",
        "메서드\n",
        "```"
      ],
      "metadata": {
        "id": "iLBtRqjjVys_"
      }
    },
    {
      "cell_type": "markdown",
      "source": [
        "❓ 56. **random** 모듈을 불러오는 코드를 작성하세요."
      ],
      "metadata": {
        "id": "QyKUn_TXVys_"
      }
    },
    {
      "cell_type": "code",
      "source": [
        "import random"
      ],
      "metadata": {
        "id": "NsVUsvsmVys_"
      },
      "execution_count": 45,
      "outputs": []
    },
    {
      "cell_type": "markdown",
      "source": [
        "❓ 57. **pandas** 모듈을 `pd`라는 이름으로 불러오는 코드를 작성하세요."
      ],
      "metadata": {
        "id": "Y1xtmJ3RVys_"
      }
    },
    {
      "cell_type": "code",
      "source": [
        "import pandas as pd"
      ],
      "metadata": {
        "id": "Sb4s5Y5mVytA"
      },
      "execution_count": 46,
      "outputs": []
    }
  ]
}